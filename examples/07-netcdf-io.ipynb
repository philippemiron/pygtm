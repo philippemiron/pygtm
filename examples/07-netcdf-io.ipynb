{
 "cells": [
  {
   "cell_type": "markdown",
   "metadata": {},
   "source": [
    "# Usage Guide : pygtm\n",
    "## netcdf IO functions"
   ]
  },
  {
   "cell_type": "code",
   "execution_count": 1,
   "metadata": {},
   "outputs": [],
   "source": [
    "import sys\n",
    "import os\n",
    "import h5py\n",
    "import numpy as np\n",
    "import matplotlib\n",
    "import matplotlib.pyplot as plt\n",
    "import cmocean\n",
    "import cartopy.feature as cfeature\n",
    "import cartopy.crs as ccrs\n",
    "from cartopy.mpl.ticker import LongitudeFormatter, LatitudeFormatter\n",
    "from mpl_toolkits.axes_grid1 import make_axes_locatable\n",
    "%matplotlib inline"
   ]
  },
  {
   "cell_type": "code",
   "execution_count": 2,
   "metadata": {},
   "outputs": [],
   "source": [
    "sys.path.insert(0, '../')\n",
    "from pygtm.physical import physical_space\n",
    "from pygtm.matrix import matrix_space\n",
    "from pygtm.dataset import trajectory\n",
    "from pygtm.tools import export_nc, import_nc"
   ]
  },
  {
   "cell_type": "markdown",
   "metadata": {},
   "source": [
    "# Load drifter trajectories\n",
    "## Using the drogued drifters in GDP database in the North Atlantic ([*download* data here](https://miamiedu-my.sharepoint.com/:u:/g/personal/pxm498_miami_edu/EfaPVkKsPABJrJtKyctKrAUBpp7XzNHHrOLUhFow3pMkZw?e=MXzrcG)) and ([notebook](https://github.com/philippemiron/notebooks/blob/master/gdp.ipynb) for more info)"
   ]
  },
  {
   "cell_type": "code",
   "execution_count": 3,
   "metadata": {},
   "outputs": [],
   "source": [
    "filename = 'data/gdp-north-atlantic-drogued.mat'\n",
    "with h5py.File(filename, 'r') as f:\n",
    "    d_id = f['id'][0]\n",
    "    x = f['x'][0]  # [deg]\n",
    "    y = f['y'][0]  # [deg]\n",
    "    t = f['t'][0]  # [day]\n",
    "del f\n",
    "\n",
    "# drifter IDs are reused in the GDP so you make sure\n",
    "# there isn't more than 10d before data points of a\n",
    "# same drifter ID\n",
    "I = np.where(abs(np.diff(d_id, axis=0)) > 0)[0]\n",
    "I = np.insert(I, [0, len(I)], [-1, len(d_id) - 1])\n",
    "max_id = np.max(d_id)\n",
    "\n",
    "for i in range(0, len(I) - 1):\n",
    "    range_i = np.arange(I[i] + 1, I[i + 1] + 1)\n",
    "    t_diff = np.diff(t[range_i])\n",
    "\n",
    "    # if there is a big gap, I changed the id and\n",
    "    # treat the new segments as another drifters\n",
    "    jump = np.where(t_diff > 10)[0]  # 10 days\n",
    "    if len(jump) > 0:\n",
    "        jump = np.insert(jump, [0, len(jump)], [-1, len(range_i) - 1])\n",
    "\n",
    "        for j in range(0, len(jump) - 1):\n",
    "            range_j = np.arange(jump[j] + 1, jump[j + 1] + 1)\n",
    "            d_id[range_i[range_j]] = np.ones(len(range_j)) * (max_id + 1)  # range modification\n",
    "            max_id += 1"
   ]
  },
  {
   "cell_type": "code",
   "execution_count": 4,
   "metadata": {},
   "outputs": [],
   "source": [
    "T = 5  # transition time [days]\n",
    "spatial_dis = 75\n",
    "lon = [-98, 35]\n",
    "lat = [-5, 80]\n",
    "\n",
    "# create the grid and bins\n",
    "d = physical_space(lon, lat, spatial_dis)\n",
    "\n",
    "# creates segments ready to plot with add_collection()\n",
    "data = trajectory(x,y,t,d_id)\n",
    "data.create_segments(T)"
   ]
  },
  {
   "cell_type": "code",
   "execution_count": 5,
   "metadata": {},
   "outputs": [
    {
     "name": "stdout",
     "output_type": "stream",
     "text": [
      "Domain contains 1808 bins. (1596 bins were removed)\n"
     ]
    }
   ],
   "source": [
    "# create matrix object\n",
    "tm = matrix_space(d)\n",
    "tm.fill_transition_matrix(data)\n",
    "tm.left_and_right_eigenvectors(20)"
   ]
  },
  {
   "cell_type": "markdown",
   "metadata": {},
   "source": [
    "# Import and Export to netCDF"
   ]
  },
  {
   "cell_type": "code",
   "execution_count": 6,
   "metadata": {},
   "outputs": [],
   "source": [
    "# export and import\n",
    "export_nc('test.nc', data, d, tm)"
   ]
  },
  {
   "cell_type": "code",
   "execution_count": 7,
   "metadata": {},
   "outputs": [],
   "source": [
    "data2, d2, tm2 = import_nc('test.nc')"
   ]
  },
  {
   "cell_type": "markdown",
   "metadata": {},
   "source": [
    "# Validate the IO functions"
   ]
  },
  {
   "cell_type": "code",
   "execution_count": 8,
   "metadata": {},
   "outputs": [],
   "source": [
    "# function to compare before writing and reading\n",
    "def compare_domain(dom, dom2):\n",
    "    test = np.zeros(14, dtype=bool)\n",
    "    test[0] = np.array_equal(d.lon, d2.lon)\n",
    "    test[1] = np.array_equal(d.lat, d2.lat)\n",
    "    test[2] = dom.resolution == d2.resolution\n",
    "    test[3] = dom.nx == d2.nx\n",
    "    test[4] = dom.ny == d2.ny\n",
    "    test[5] = np.array_equal(d.coords, d2.coords)\n",
    "    test[6] = np.array_equal(d.bins, d2.bins)\n",
    "    test[7] = np.array_equal(d.vx, d2.vx)\n",
    "    test[8] = np.array_equal(d.vy, d2.vy)\n",
    "    test[9] = d.dx == d2.dx\n",
    "    test[10] = d.dy == d2.dy\n",
    "    test[11] = np.array_equal(d.id, d2.id)\n",
    "    test[12] = d.N0 == d2.N0\n",
    "    test[13] = np.array_equal(d.id_og, d2.id_og)\n",
    "    \n",
    "    if np.all(test):\n",
    "        return True\n",
    "    else:\n",
    "        return False\n",
    "\n",
    "def compare_data(data, data2):\n",
    "    if np.all(data.x0 == data2.x0) and np.all(data.y0 == data2.y0) and np.all(data.xt == data2.xt) and np.all(data.yt == data2.yt):\n",
    "        return True\n",
    "    else:\n",
    "        return False\n",
    "    \n",
    "def compare_matrix(tm, tm2):\n",
    "    test = np.zeros(10, dtype=bool)\n",
    "    test[0] = tm.N == tm2.N\n",
    "    test[1] = np.all(np.hstack((np.equal(tm.B, tm2.B, dtype=np.object))))\n",
    "    test[2] = np.array_equal(tm.P, tm2.P)\n",
    "    test[3] = np.array_equal(tm.M, tm2.M)\n",
    "    test[4] = np.array_equal(tm.fi,tm2.fi)\n",
    "    test[5] = np.array_equal(tm.fo,tm2.fo)\n",
    "    test[6] = np.array_equal(tm.eigL,tm2.eigL)\n",
    "    test[7] = np.array_equal(tm.L, tm2.L)\n",
    "    test[8] = np.array_equal(tm.eigR, tm2.eigR)\n",
    "    test[9] = np.array_equal(tm.R, tm2.R)\n",
    "\n",
    "    if np.all(test):\n",
    "        return True\n",
    "    else:\n",
    "        return False"
   ]
  },
  {
   "cell_type": "code",
   "execution_count": 9,
   "metadata": {},
   "outputs": [
    {
     "name": "stdout",
     "output_type": "stream",
     "text": [
      "Objects before and after IO are equals.\n"
     ]
    }
   ],
   "source": [
    "# validate io\n",
    "if compare_domain(d, d2) and compare_data(data, data2) and compare_matrix(tm, tm2):\n",
    "    print('Objects before and after IO are equals.')\n",
    "else:\n",
    "    print('Error during the writing or reading phase.')\n",
    "\n",
    "# delete file so it's not save to github\n",
    "os.remove('test.nc')"
   ]
  }
 ],
 "metadata": {
  "kernelspec": {
   "display_name": "Python 3",
   "language": "python",
   "name": "python3"
  },
  "language_info": {
   "codemirror_mode": {
    "name": "ipython",
    "version": 3
   },
   "file_extension": ".py",
   "mimetype": "text/x-python",
   "name": "python",
   "nbconvert_exporter": "python",
   "pygments_lexer": "ipython3",
   "version": "3.7.6"
  }
 },
 "nbformat": 4,
 "nbformat_minor": 4
}
